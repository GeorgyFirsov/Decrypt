{
 "cells": [
  {
   "cell_type": "markdown",
   "metadata": {},
   "source": [
    "# Main module\n",
    "It is written in Jupyter Noteboook for better look"
   ]
  },
  {
   "cell_type": "markdown",
   "metadata": {},
   "source": [
    "## Preparation"
   ]
  },
  {
   "cell_type": "code",
   "execution_count": 1,
   "metadata": {},
   "outputs": [],
   "source": [
    "# Import some stuff for plots\n",
    "\n",
    "%matplotlib inline \n",
    "import matplotlib.pyplot as plt"
   ]
  },
  {
   "cell_type": "code",
   "execution_count": 2,
   "metadata": {},
   "outputs": [],
   "source": [
    "# Import library modules\n",
    "\n",
    "from binascii import crc32"
   ]
  },
  {
   "cell_type": "code",
   "execution_count": 3,
   "metadata": {},
   "outputs": [],
   "source": [
    "# Import project files\n",
    "\n",
    "from Generate.Generate import generate_dataset\n",
    "from Decorators import time\n",
    "from Encrypt import *"
   ]
  },
  {
   "cell_type": "markdown",
   "metadata": {},
   "source": [
    "## Set some constants"
   ]
  },
  {
   "cell_type": "code",
   "execution_count": 4,
   "metadata": {},
   "outputs": [],
   "source": [
    "file_name = './data/words_list.txt'  # Path to file with list of words"
   ]
  },
  {
   "cell_type": "markdown",
   "metadata": {},
   "source": [
    "## Data preparation"
   ]
  },
  {
   "cell_type": "code",
   "execution_count": 5,
   "metadata": {},
   "outputs": [
    {
     "name": "stdout",
     "output_type": "stream",
     "text": [
      "Time elapsed: 267262 msec (0 sec)\n"
     ]
    }
   ],
   "source": [
    "words = generate_dataset(file_name)"
   ]
  },
  {
   "cell_type": "code",
   "execution_count": 6,
   "metadata": {},
   "outputs": [
    {
     "name": "stdout",
     "output_type": "stream",
     "text": [
      "Set 'words' contains 420394 elements\n"
     ]
    }
   ],
   "source": [
    "print(\"Set 'words' contains {} elements\".format(len(words)))"
   ]
  },
  {
   "cell_type": "code",
   "execution_count": 7,
   "metadata": {},
   "outputs": [
    {
     "name": "stdout",
     "output_type": "stream",
     "text": [
      "Time elapsed: 833492 msec (0 sec)\n",
      "Time elapsed: 845300 msec (0 sec)\n",
      "Time elapsed: 817205 msec (0 sec)\n"
     ]
    }
   ],
   "source": [
    "caesar_3 = Caesar.encrypt(words, 3)\n",
    "caesar_4 = Caesar.encrypt(words, 4)\n",
    "caesar_5 = Caesar.encrypt(words, 5)"
   ]
  },
  {
   "cell_type": "code",
   "execution_count": 8,
   "metadata": {},
   "outputs": [
    {
     "name": "stdout",
     "output_type": "stream",
     "text": [
      "Time elapsed: 811561 msec (0 sec)\n",
      "Time elapsed: 825007 msec (0 sec)\n",
      "Time elapsed: 799798 msec (0 sec)\n"
     ]
    }
   ],
   "source": [
    "affine_3_4  = Affine.encrypt(words, 3, 4)\n",
    "affine_5_2  = Affine.encrypt(words, 5, 2)\n",
    "affine_9_11 = Affine.encrypt(words, 9, 11)"
   ]
  },
  {
   "cell_type": "markdown",
   "metadata": {},
   "source": [
    "## Some hypotheses\n",
    "\n",
    "There are different ways to build classifier:\n",
    "\n",
    "- try to calculate some unique number for each word\n",
    "and build classifier based on these numbers\n",
    "\n",
    "- vectorize words and build classifier based on vectors"
   ]
  },
  {
   "cell_type": "markdown",
   "metadata": {},
   "source": [
    "### Number calculation"
   ]
  },
  {
   "cell_type": "code",
   "execution_count": 9,
   "metadata": {},
   "outputs": [],
   "source": [
    "@time.benchmark\n",
    "def map_codes_and_words(words_dict, hash_func):\n",
    "    \"\"\"Helper function. It costructs dict with encrypted\n",
    "    words as keys and their codes as values.\n",
    "    \"\"\"\n",
    "    return {words_dict[key]: hash_func(words_dict[key].encode('utf-8')) for key in words_dict}"
   ]
  },
  {
   "cell_type": "code",
   "execution_count": 10,
   "metadata": {},
   "outputs": [
    {
     "name": "stdout",
     "output_type": "stream",
     "text": [
      "Time elapsed: 294931 msec (0 sec)\n",
      "Time elapsed: 304228 msec (0 sec)\n",
      "Time elapsed: 321137 msec (0 sec)\n"
     ]
    }
   ],
   "source": [
    "d_caesar_3 = map_codes_and_words(caesar_3, crc32)\n",
    "d_caesar_4 = map_codes_and_words(caesar_4, crc32)\n",
    "d_caesar_5 = map_codes_and_words(caesar_5, crc32)"
   ]
  },
  {
   "cell_type": "code",
   "execution_count": 11,
   "metadata": {},
   "outputs": [
    {
     "name": "stdout",
     "output_type": "stream",
     "text": [
      "Time elapsed: 305609 msec (0 sec)\n",
      "Time elapsed: 292390 msec (0 sec)\n",
      "Time elapsed: 293059 msec (0 sec)\n"
     ]
    }
   ],
   "source": [
    "d_affine_3_4  = map_codes_and_words(affine_3_4, crc32)\n",
    "d_affine_5_2  = map_codes_and_words(affine_5_2, crc32)\n",
    "d_affine_9_11 = map_codes_and_words(affine_9_11, crc32)"
   ]
  },
  {
   "cell_type": "code",
   "execution_count": 12,
   "metadata": {},
   "outputs": [],
   "source": [
    "def calculate_intersection(first, second):\n",
    "    \"\"\"Helper function. It returns an intersection of \n",
    "    values sets of two dicts.\n",
    "    \"\"\"\n",
    "    first_set  = {value for value in first.values()}\n",
    "    second_set = {value for value in second.values()}\n",
    "    return first_set.intersection(second_set)"
   ]
  },
  {
   "cell_type": "code",
   "execution_count": 13,
   "metadata": {},
   "outputs": [],
   "source": [
    "# Test helper\n",
    "\n",
    "assert(calculate_intersection({'a': 97, 'b': 98}, {'c': 99, 'd': 100}) == set())\n",
    "assert(calculate_intersection({'a': 97, 'b': 99}, {'c': 99, 'd': 100}) == {99})"
   ]
  },
  {
   "cell_type": "code",
   "execution_count": 14,
   "metadata": {},
   "outputs": [],
   "source": [
    "# caesar 3 and caesar 4\n",
    "intersection_1  = len(calculate_intersection(d_caesar_3, d_caesar_4))\n",
    "# caesar 3 and caesar 5\n",
    "intersection_2  = len(calculate_intersection(d_caesar_3, d_caesar_5))\n",
    "# caesar 3 and affine 3 4\n",
    "intersection_3  = len(calculate_intersection(d_caesar_3, d_affine_3_4))\n",
    "# caesar 3 and affine 5 2\n",
    "intersection_4  = len(calculate_intersection(d_caesar_3, d_affine_5_2))\n",
    "# caesar 3 and affine 9 11\n",
    "intersection_5  = len(calculate_intersection(d_caesar_3, d_affine_9_11))\n",
    "\n",
    "# caesar 4 and caesar 5\n",
    "intersection_6  = len(calculate_intersection(d_caesar_4, d_caesar_5))\n",
    "# caesar 4 and affine 3 4\n",
    "intersection_7  = len(calculate_intersection(d_caesar_4, d_affine_3_4))\n",
    "# caesar 4 and affine 5 2\n",
    "intersection_8  = len(calculate_intersection(d_caesar_4, d_affine_5_2))\n",
    "# caesar 4 and affine 9 11\n",
    "intersection_9  = len(calculate_intersection(d_caesar_4, d_affine_9_11))\n",
    "\n",
    "# caesar 5 and affine 3 4\n",
    "intersection_10 = len(calculate_intersection(d_caesar_5, d_affine_3_4))\n",
    "# caesar 5 and affine 5 2\n",
    "intersection_11 = len(calculate_intersection(d_caesar_5, d_affine_5_2))\n",
    "# caesar 5 and affine 9 11\n",
    "intersection_12 = len(calculate_intersection(d_caesar_5, d_affine_9_11))\n",
    "\n",
    "# affine 3 4 and affine 5 2\n",
    "intersection_13 = len(calculate_intersection(d_affine_3_4, d_affine_5_2))\n",
    "# affine 3 4 and affine 9 11\n",
    "intersection_14 = len(calculate_intersection(d_affine_3_4, d_affine_9_11))\n",
    "\n",
    "# affine 5 2 and affine 9 11\n",
    "intersection_15 = len(calculate_intersection(d_affine_5_2, d_affine_9_11))"
   ]
  },
  {
   "cell_type": "code",
   "execution_count": 15,
   "metadata": {},
   "outputs": [],
   "source": [
    "intersections = [\n",
    "      intersection_1,  intersection_2\n",
    "    , intersection_3,  intersection_4\n",
    "    , intersection_5,  intersection_6\n",
    "    , intersection_7,  intersection_8\n",
    "    , intersection_9,  intersection_10\n",
    "    , intersection_11, intersection_12\n",
    "    , intersection_13, intersection_14\n",
    "    , intersection_15\n",
    "]"
   ]
  },
  {
   "cell_type": "code",
   "execution_count": 16,
   "metadata": {},
   "outputs": [],
   "source": [
    "rng = [i+1 for i in range(len(intersections))]  # Range to plot\n",
    "threshold = 1820 \n",
    "threshhold_line = [threshold for i in range(len(rng))]"
   ]
  },
  {
   "cell_type": "code",
   "execution_count": 17,
   "metadata": {},
   "outputs": [
    {
     "data": {
      "image/png": "[encoded data removed]",
      "text/plain": [
       "<Figure size 432x288 with 1 Axes>"
      ]
     },
     "metadata": {
      "needs_background": "light"
     },
     "output_type": "display_data"
    }
   ],
   "source": [
    "plt.plot(  rng, intersections\n",
    "         , rng, threshhold_line, 'r--')\n",
    "plt.xlabel('Intersection number')\n",
    "plt.ylabel('Intersection cardinality')\n",
    "plt.show()"
   ]
  },
  {
   "cell_type": "markdown",
   "metadata": {},
   "source": [
    "### Some inferences\n",
    "\n",
    "As we can see, the most different sets are given by following:\n",
    "- caesar_3 and caesar_5 (intersection 2)\n",
    "- caesar_3 and affine_5_2 (intersection 4)\n",
    "- caesar_4 and affine_5_2 (intersection 8)\n",
    "- caesar_5 and affine_3_4 (intersection 10)\n",
    "- affine_3_4 and affine_9_11 (intersection 14)\n",
    "- affine_5_2 and affine_9_11 (intersection 15)"
   ]
  },
  {
   "cell_type": "code",
   "execution_count": null,
   "metadata": {},
   "outputs": [],
   "source": []
  }
 ],
 "metadata": {
  "kernelspec": {
   "display_name": "Python 3",
   "language": "python",
   "name": "python3"
  },
  "language_info": {
   "codemirror_mode": {
    "name": "ipython",
    "version": 3
   },
   "file_extension": ".py",
   "mimetype": "text/x-python",
   "name": "python",
   "nbconvert_exporter": "python",
   "pygments_lexer": "ipython3",
   "version": "3.7.3"
  }
 },
 "nbformat": 4,
 "nbformat_minor": 2
}
