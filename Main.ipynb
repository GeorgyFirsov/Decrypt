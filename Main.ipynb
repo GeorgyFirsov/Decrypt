{
 "cells": [
  {
   "cell_type": "markdown",
   "metadata": {},
   "source": [
    "# Main module\n",
    "It is written in Jupyter Noteboook for better look.\n",
    "\n",
    "> **Note**: some functions from Utility.functions use ***frozendict*** module. To avoid errors and bad mood (bacause of errors) you need to create a cell with python code before any import and type `%pip install frozendict`. Then run your cell."
   ]
  },
  {
   "cell_type": "markdown",
   "metadata": {},
   "source": [
    "## Preparation"
   ]
  },
  {
   "cell_type": "code",
   "execution_count": 1,
   "metadata": {
    "scrolled": true
   },
   "outputs": [],
   "source": [
    "# Import some stuff for jupyter\n",
    "\n",
    "%matplotlib inline \n",
    "import matplotlib.pyplot as plt"
   ]
  },
  {
   "cell_type": "code",
   "execution_count": 2,
   "metadata": {
    "scrolled": true
   },
   "outputs": [],
   "source": [
    "# Import library modules\n",
    "\n",
    "from binascii import crc32\n",
    "import os.path\n",
    "import warnings\n",
    "import pickle"
   ]
  },
  {
   "cell_type": "code",
   "execution_count": 3,
   "metadata": {
    "scrolled": true
   },
   "outputs": [],
   "source": [
    "# Import project files\n",
    "\n",
    "from Generate.generate import generate_dataset\n",
    "from Classifier.learn import Classifier, make_classifier\n",
    "from Classifier.score import stats\n",
    "from Utility.test import run_all_tests\n",
    "from Utility.functions import *\n",
    "from Utility.data import *\n",
    "from Encrypt import *"
   ]
  },
  {
   "cell_type": "code",
   "execution_count": 4,
   "metadata": {},
   "outputs": [
    {
     "name": "stdout",
     "output_type": "stream",
     "text": [
      "All 6 tests passed\n",
      "Time elapsed: 0:00:00.000074\n"
     ]
    }
   ],
   "source": [
    "# Test helper functions\n",
    "assert(run_all_tests())"
   ]
  },
  {
   "cell_type": "code",
   "execution_count": 5,
   "metadata": {},
   "outputs": [],
   "source": [
    "# Disable annoying warnings in predictor\n",
    "warnings.filterwarnings('ignore')"
   ]
  },
  {
   "cell_type": "markdown",
   "metadata": {},
   "source": [
    "## Data preparation"
   ]
  },
  {
   "cell_type": "code",
   "execution_count": 6,
   "metadata": {
    "scrolled": true
   },
   "outputs": [
    {
     "name": "stdout",
     "output_type": "stream",
     "text": [
      "Time elapsed: 0:00:00.276431\n"
     ]
    }
   ],
   "source": [
    "words = generate_dataset(file_name)"
   ]
  },
  {
   "cell_type": "code",
   "execution_count": 7,
   "metadata": {
    "scrolled": true
   },
   "outputs": [
    {
     "name": "stdout",
     "output_type": "stream",
     "text": [
      "Set 'words' contains 420372 elements\n"
     ]
    }
   ],
   "source": [
    "print(\"Set 'words' contains {} elements\".format(len(words)))"
   ]
  },
  {
   "cell_type": "code",
   "execution_count": 8,
   "metadata": {
    "scrolled": true
   },
   "outputs": [
    {
     "name": "stdout",
     "output_type": "stream",
     "text": [
      "Time elapsed: 0:00:00.867599\n",
      "Time elapsed: 0:00:00.868920\n",
      "Time elapsed: 0:00:00.875188\n"
     ]
    }
   ],
   "source": [
    "caesar_3 = caesar.encrypt(words, 3)\n",
    "caesar_4 = caesar.encrypt(words, 4)\n",
    "caesar_5 = caesar.encrypt(words, 5)"
   ]
  },
  {
   "cell_type": "code",
   "execution_count": 9,
   "metadata": {
    "scrolled": true
   },
   "outputs": [
    {
     "name": "stdout",
     "output_type": "stream",
     "text": [
      "Time elapsed: 0:00:00.896868\n",
      "Time elapsed: 0:00:00.886862\n",
      "Time elapsed: 0:00:00.840412\n"
     ]
    }
   ],
   "source": [
    "affine_3_4  = affine.encrypt(words, 3, 4)\n",
    "affine_5_2  = affine.encrypt(words, 5, 2)\n",
    "affine_9_11 = affine.encrypt(words, 9, 11)"
   ]
  },
  {
   "cell_type": "markdown",
   "metadata": {},
   "source": [
    "## First look\n",
    "\n",
    "Here we need to find out some things, which can be helpful for classification."
   ]
  },
  {
   "cell_type": "code",
   "execution_count": 10,
   "metadata": {
    "scrolled": true
   },
   "outputs": [],
   "source": [
    "intersections = list()\n",
    "\n",
    "# caesar 3 and caesar 4\n",
    "put_card_of_intersection_to(intersections, caesar_3, caesar_4)       # (1)\n",
    "# caesar 3 and caesar 5\n",
    "put_card_of_intersection_to(intersections, caesar_3, caesar_5)       # (2)\n",
    "# caesar 3 and affine 3 4\n",
    "put_card_of_intersection_to(intersections, caesar_3, affine_3_4)     # (3)\n",
    "# caesar 3 and affine 5 2\n",
    "put_card_of_intersection_to(intersections, caesar_3, affine_5_2)     # (4)\n",
    "# caesar 3 and affine 9 11\n",
    "put_card_of_intersection_to(intersections, caesar_3, affine_9_11)    # (5)\n",
    "\n",
    "# caesar 4 and caesar 5\n",
    "put_card_of_intersection_to(intersections, caesar_4, caesar_5)       # (6)\n",
    "# caesar 4 and affine 3 4\n",
    "put_card_of_intersection_to(intersections, caesar_4, affine_3_4)     # (7)\n",
    "# caesar 4 and affine 5 2\n",
    "put_card_of_intersection_to(intersections, caesar_4, affine_5_2)     # (8)\n",
    "# caesar 4 and affine 9 11\n",
    "put_card_of_intersection_to(intersections, caesar_4, affine_9_11)    # (9)\n",
    "\n",
    "# caesar 5 and affine 3 4\n",
    "put_card_of_intersection_to(intersections, caesar_5, affine_3_4)     # (10)\n",
    "# caesar 5 and affine 5 2\n",
    "put_card_of_intersection_to(intersections, caesar_5, affine_5_2)     # (11)\n",
    "# caesar 5 and affine 9 11\n",
    "put_card_of_intersection_to(intersections, caesar_5, affine_9_11)    # (12)\n",
    "\n",
    "# affine 3 4 and affine 5 2\n",
    "put_card_of_intersection_to(intersections, affine_3_4, affine_5_2)   # (13)\n",
    "# affine 3 4 and affine 9 11\n",
    "put_card_of_intersection_to(intersections, affine_3_4, affine_9_11)  # (14)\n",
    "\n",
    "# affine 5 2 and affine 9 11\n",
    "put_card_of_intersection_to(intersections, affine_5_2, affine_9_11)  # (15)"
   ]
  },
  {
   "cell_type": "markdown",
   "metadata": {},
   "source": [
    "#### Results visualization"
   ]
  },
  {
   "cell_type": "code",
   "execution_count": 11,
   "metadata": {
    "scrolled": true
   },
   "outputs": [],
   "source": [
    "# First graph stuff\n",
    "\n",
    "x_axis = [i+1 for i in range(len(intersections))]  # Range to plot\n",
    "l_threshold = 1800                                 # Lower bound of 'weak' intersction\n",
    "u_threshold = 2400                                 # Upper bound of 'medium' intersection\n",
    "l_threshold_line = [l_threshold for i in range(len(x_axis))]  # Line to display lower bound\n",
    "u_threshold_line = [u_threshold for i in range(len(x_axis))]  # Line to display upper bound\n",
    "\n",
    "# Second graph stuff\n",
    "\n",
    "# Here I replace self-intersections (HUGE cardinality) with placeholder.\n",
    "# Graph is symmetrical against y = x line, hence we don't need to draw one half.\n",
    "placeholder = 1200\n",
    "intersections_map = [\n",
    "      [intersections[4], intersections[8], intersections[11]\n",
    "       , intersections[13], intersections[14], placeholder]\n",
    "    , [intersections[3], intersections[7], intersections[10]\n",
    "       , intersections[12], placeholder, placeholder]\n",
    "    , [intersections[2], intersections[6], intersections[9]\n",
    "       , placeholder, placeholder, placeholder]\n",
    "    , [intersections[1], intersections[5], placeholder\n",
    "       , placeholder, placeholder, placeholder]\n",
    "    , [intersections[0], placeholder, placeholder\n",
    "       , placeholder, placeholder, placeholder]\n",
    "    , [placeholder, placeholder, placeholder\n",
    "       , placeholder, placeholder, placeholder]\n",
    "]\n",
    "labels = [key for key in classes_map.keys()]"
   ]
  },
  {
   "cell_type": "code",
   "execution_count": 12,
   "metadata": {
    "scrolled": false
   },
   "outputs": [
    {
     "data": {
      "image/png": "[encoded data removed]",
      "text/plain": [
       "<Figure size 1008x432 with 3 Axes>"
      ]
     },
     "metadata": {
      "needs_background": "light"
     },
     "output_type": "display_data"
    }
   ],
   "source": [
    "fig, (ax1, ax2) = plt.subplots(nrows=1, ncols=2, figsize=(14, 6))\n",
    "\n",
    "\n",
    "# Plotting graph of intersection's cardinalities\n",
    "ax1.set_xlabel(\"Intersection's number\")\n",
    "ax1.set_ylabel(\"Intersection's cardinality\")\n",
    "\n",
    "ax1.plot(x_axis, intersections, label='Intersections count')\n",
    "ax1.plot(x_axis, u_threshold_line, 'r--', label='Upper threshold')\n",
    "ax1.plot(x_axis, l_threshold_line, 'g--', label='Lower threshold')\n",
    "\n",
    "# Plotting colored image of inersection's cardinalities \n",
    "ax2.set_xticklabels([0] + [label for label in labels])  # 0 is dummy label\n",
    "ax2.set_yticklabels([0] + [label for label in reversed(labels)])\n",
    "\n",
    "pos = ax2.imshow(intersections_map, interpolation='mitchell')\n",
    "\n",
    "# Mark local minima and maxima on second graph\n",
    "# It is sad, but these numbers are magical :(\n",
    "ax2.plot(  0, 0, 'r^', label='Local maxima')\n",
    "ax2.plot(  3, 1, 'r^')\n",
    "ax2.plot(  0, 3, 'yv', label='Local minima')\n",
    "ax2.plot(  0, 1, 'yv', 1, 1, 'yv', 2, 2, 'yv'\n",
    "         , 3, 0, 'yv', 4, 0, 'yv')\n",
    "\n",
    "\n",
    "# Draw plots\n",
    "fig.colorbar(pos, ax=ax2)\n",
    "\n",
    "plt.suptitle(\"Intersections of encrypted word's sets\", size=20)\n",
    "plt.setp(ax2.get_xticklabels(), rotation=30, ha='right', rotation_mode='anchor')\n",
    "\n",
    "ax1.legend()\n",
    "ax2.legend(loc='lower left')\n",
    "\n",
    "ax2.text(2.20, 5.35\n",
    "         , 'Self-intersections and \\nbottom half are replaced \\nwith {}'.format(placeholder)\n",
    "         , color='white', size=12)\n",
    "\n",
    "plt.show()"
   ]
  },
  {
   "cell_type": "markdown",
   "metadata": {},
   "source": [
    "#### Some inferences\n",
    "\n",
    "As we can see on first graph, the most different sets are given by following methods:\n",
    "- caesar_3 and caesar_5 (intersection 2)\n",
    "- caesar_3 and affine_5_2 (intersection 4)\n",
    "- caesar_4 and affine_5_2 (intersection 8)\n",
    "- caesar_5 and affine_3_4 (intersection 10)\n",
    "- affine_3_4 and affine_9_11 (intersection 14)\n",
    "- affine_5_2 and affine_9_11 (intersection 15)\n",
    "\n",
    "These intersections are marked with <span style='color:green'>▼</span> sign on the second graph as local minima.\n",
    "\n",
    "From the first graph ensue that we have two intersections with relatively big cardinality:\n",
    "- caesar_3 and affine_9_11 (intersection 5)\n",
    "- affine_3_4 and affine_5_2 (intersection 13)\n",
    "\n",
    "They are highlighted with <span style='color:red'>▲</span> sign on the second graph."
   ]
  },
  {
   "cell_type": "markdown",
   "metadata": {},
   "source": [
    "## Some hypotheses\n",
    "\n",
    "There are different ways to build classifier:\n",
    "\n",
    "- try to calculate some unique number for each word\n",
    "and build classifier based on these numbers\n",
    "\n",
    "- vectorize words and build classifier based on vectors"
   ]
  },
  {
   "cell_type": "markdown",
   "metadata": {},
   "source": [
    "### <span style='color:red'>Number's calculation</span>\n",
    "\n",
    "We have calculated 2 hash values: crc32 and custom one. Now it's time to visualize some intersections to find out if it is possible to classify words by these numbers."
   ]
  },
  {
   "cell_type": "code",
   "execution_count": 13,
   "metadata": {},
   "outputs": [
    {
     "name": "stdout",
     "output_type": "stream",
     "text": [
      "Time elapsed: 0:00:02.087390\n",
      "Time elapsed: 0:00:02.058817\n",
      "Time elapsed: 0:00:01.951060\n"
     ]
    }
   ],
   "source": [
    "d_caesar_3 = map_codes_and_words(caesar_3, crc32, custom_hash)\n",
    "d_caesar_4 = map_codes_and_words(caesar_4, crc32, custom_hash)\n",
    "d_caesar_5 = map_codes_and_words(caesar_5, crc32, custom_hash)"
   ]
  },
  {
   "cell_type": "code",
   "execution_count": 14,
   "metadata": {},
   "outputs": [
    {
     "name": "stdout",
     "output_type": "stream",
     "text": [
      "Time elapsed: 0:00:01.968427\n",
      "Time elapsed: 0:00:02.101646\n",
      "Time elapsed: 0:00:02.042495\n"
     ]
    }
   ],
   "source": [
    "d_affine_3_4  = map_codes_and_words(affine_3_4, crc32, custom_hash)\n",
    "d_affine_5_2  = map_codes_and_words(affine_5_2, crc32, custom_hash)\n",
    "d_affine_9_11 = map_codes_and_words(affine_9_11, crc32, custom_hash)"
   ]
  },
  {
   "cell_type": "code",
   "execution_count": 15,
   "metadata": {},
   "outputs": [
    {
     "name": "stdout",
     "output_type": "stream",
     "text": [
      "Time elapsed: 0:00:00.239499\n",
      "Time elapsed: 0:00:00.217722\n",
      "Time elapsed: 0:00:00.228310\n",
      "Time elapsed: 0:00:00.232868\n",
      "Time elapsed: 0:00:00.215577\n",
      "Time elapsed: 0:00:00.246140\n"
     ]
    }
   ],
   "source": [
    "# Let's choose n random items from dictionaries\n",
    "n = 20\n",
    "\n",
    "n_rand_caesar_3 = get_n_random(n, d_caesar_3)\n",
    "n_rand_caesar_4 = get_n_random(n, d_caesar_4)\n",
    "n_rand_caesar_5 = get_n_random(n, d_caesar_5)\n",
    "n_rand_affine_3_4 = get_n_random(n, d_affine_3_4)\n",
    "n_rand_affine_5_2 = get_n_random(n, d_affine_5_2)\n",
    "n_rand_affine_9_11 = get_n_random(n, d_affine_9_11)"
   ]
  },
  {
   "cell_type": "code",
   "execution_count": 16,
   "metadata": {},
   "outputs": [
    {
     "data": {
      "image/png": "[encoded data removed]",
      "text/plain": [
       "<Figure size 1008x432 with 1 Axes>"
      ]
     },
     "metadata": {
      "needs_background": "light"
     },
     "output_type": "display_data"
    }
   ],
   "source": [
    "# Visualize classes\n",
    "\n",
    "plt.figure(figsize=(14, 6))\n",
    "plt.title('Classes of encrypted words', size=20)\n",
    "plt.xlabel('Crc32')\n",
    "plt.ylabel('Custom hash')\n",
    "\n",
    "for value in n_rand_caesar_3.values():\n",
    "    plt.plot([value[0]], [value[1]], 'r+')\n",
    "for value in n_rand_caesar_4.values():\n",
    "    plt.plot([value[0]], [value[1]], 'bo')\n",
    "for value in n_rand_caesar_5.values():\n",
    "    plt.plot([value[0]], [value[1]], 'g^')\n",
    "for value in n_rand_affine_3_4.values():\n",
    "    plt.plot([value[0]], [value[1]], 'yv')\n",
    "for value in n_rand_affine_5_2.values():\n",
    "    plt.plot([value[0]], [value[1]], 'm>')\n",
    "for value in n_rand_affine_9_11.values():\n",
    "    plt.plot([value[0]], [value[1]], 'c<')\n",
    "    \n",
    "plt.show()"
   ]
  },
  {
   "cell_type": "markdown",
   "metadata": {},
   "source": [
    "#### Further inferences\n",
    "\n",
    "As we can see from a graph, there is nothing to classify according to some hash-values. It was predictable: usually good hash functions for close arguments give values, which are far away from each other on the number line. It is a reason, why our first hypothesis was wrong. We need some function `f`, which gives close values for close arguments. It is a topic of further research."
   ]
  },
  {
   "cell_type": "markdown",
   "metadata": {},
   "source": [
    "### <span style='color:red'>Vectorization</span>"
   ]
  },
  {
   "cell_type": "markdown",
   "metadata": {},
   "source": [
    "We have n letters in our alphabet (26 in english alphabet). We can use it as a basis in n-dimensional vector space. Each letter will increment corresponding coordinate (it causes one problem - anagrams will have the same vector, for instance 'mean' and 'name'). It is 'One Hot Encoding' strategy."
   ]
  },
  {
   "cell_type": "code",
   "execution_count": 17,
   "metadata": {},
   "outputs": [],
   "source": [
    "# Now it is more comfortable to work with list of dictionaries\n",
    "ciphers = [caesar_3, caesar_4, caesar_5, affine_3_4, affine_5_2, affine_9_11]"
   ]
  },
  {
   "cell_type": "code",
   "execution_count": 18,
   "metadata": {},
   "outputs": [
    {
     "name": "stdout",
     "output_type": "stream",
     "text": [
      "Time elapsed: 0:00:00.125651\n",
      "Time elapsed: 0:00:00.116066\n",
      "Time elapsed: 0:00:00.103476\n",
      "Time elapsed: 0:00:00.103912\n",
      "Time elapsed: 0:00:00.102279\n",
      "Time elapsed: 0:00:00.107438\n"
     ]
    }
   ],
   "source": [
    "# Here we need to throw away the most of words, because of technial reasons\n",
    "to_remain = 3000\n",
    "\n",
    "small_dicts = [get_n_random(to_remain, cipher_dict) for cipher_dict in ciphers]"
   ]
  },
  {
   "cell_type": "code",
   "execution_count": 19,
   "metadata": {},
   "outputs": [],
   "source": [
    "# Check amount of words in each dictionary\n",
    "for cipher_dict in small_dicts:\n",
    "    assert(len(cipher_dict) == to_remain)"
   ]
  },
  {
   "cell_type": "markdown",
   "metadata": {},
   "source": [
    "#### Preparation for vectorization"
   ]
  },
  {
   "cell_type": "code",
   "execution_count": 20,
   "metadata": {},
   "outputs": [],
   "source": [
    "vect_alphabet = tuple(alphabet)"
   ]
  },
  {
   "cell_type": "code",
   "execution_count": 21,
   "metadata": {},
   "outputs": [],
   "source": [
    "mapped_alphabet = map_to_numbers(0, *vect_alphabet)"
   ]
  },
  {
   "cell_type": "code",
   "execution_count": 22,
   "metadata": {},
   "outputs": [
    {
     "name": "stdout",
     "output_type": "stream",
     "text": [
      "Time elapsed: 0:00:00.012484\n",
      "Time elapsed: 0:00:00.009131\n",
      "Time elapsed: 0:00:00.009974\n",
      "Time elapsed: 0:00:00.009357\n",
      "Time elapsed: 0:00:00.008922\n",
      "Time elapsed: 0:00:00.009225\n"
     ]
    }
   ],
   "source": [
    "# Let's vectorize our words\n",
    "\n",
    "v_ciphers = [vectorize(cipher_dict, mapped_alphabet) for cipher_dict in small_dicts]"
   ]
  },
  {
   "cell_type": "code",
   "execution_count": 23,
   "metadata": {},
   "outputs": [],
   "source": [
    "# Now prepare data to putting into a Pandas DataFrame\n",
    "\n",
    "mapped_dicts = map_to_numbers(1, *v_ciphers)"
   ]
  },
  {
   "cell_type": "code",
   "execution_count": 24,
   "metadata": {},
   "outputs": [
    {
     "name": "stdout",
     "output_type": "stream",
     "text": [
      "Time elapsed: 0:00:00.144151\n"
     ]
    },
    {
     "data": {
      "text/plain": [
       "18000"
      ]
     },
     "execution_count": 24,
     "metadata": {},
     "output_type": "execute_result"
    }
   ],
   "source": [
    "# And... Put all data to DataFrame\n",
    "\n",
    "data_frame = create_data_frame_vectorized(mapped_dicts)\n",
    "len(data_frame)"
   ]
  },
  {
   "cell_type": "markdown",
   "metadata": {},
   "source": [
    "Now we should check our data:"
   ]
  },
  {
   "cell_type": "code",
   "execution_count": 25,
   "metadata": {},
   "outputs": [
    {
     "data": {
      "text/html": [
       "<div>\n",
       "<style scoped>\n",
       "    .dataframe tbody tr th:only-of-type {\n",
       "        vertical-align: middle;\n",
       "    }\n",
       "\n",
       "    .dataframe tbody tr th {\n",
       "        vertical-align: top;\n",
       "    }\n",
       "\n",
       "    .dataframe thead th {\n",
       "        text-align: right;\n",
       "    }\n",
       "</style>\n",
       "<table border=\"1\" class=\"dataframe\">\n",
       "  <thead>\n",
       "    <tr style=\"text-align: right;\">\n",
       "      <th></th>\n",
       "      <th>Word</th>\n",
       "      <th>a</th>\n",
       "      <th>b</th>\n",
       "      <th>c</th>\n",
       "      <th>d</th>\n",
       "      <th>e</th>\n",
       "      <th>f</th>\n",
       "      <th>g</th>\n",
       "      <th>h</th>\n",
       "      <th>i</th>\n",
       "      <th>...</th>\n",
       "      <th>r</th>\n",
       "      <th>s</th>\n",
       "      <th>t</th>\n",
       "      <th>u</th>\n",
       "      <th>v</th>\n",
       "      <th>w</th>\n",
       "      <th>x</th>\n",
       "      <th>y</th>\n",
       "      <th>z</th>\n",
       "      <th>Class</th>\n",
       "    </tr>\n",
       "  </thead>\n",
       "  <tbody>\n",
       "    <tr>\n",
       "      <th>0</th>\n",
       "      <td>wrxfkhw</td>\n",
       "      <td>0</td>\n",
       "      <td>0</td>\n",
       "      <td>0</td>\n",
       "      <td>0</td>\n",
       "      <td>0</td>\n",
       "      <td>1</td>\n",
       "      <td>0</td>\n",
       "      <td>1</td>\n",
       "      <td>0</td>\n",
       "      <td>...</td>\n",
       "      <td>1</td>\n",
       "      <td>0</td>\n",
       "      <td>0</td>\n",
       "      <td>0</td>\n",
       "      <td>0</td>\n",
       "      <td>2</td>\n",
       "      <td>1</td>\n",
       "      <td>0</td>\n",
       "      <td>0</td>\n",
       "      <td>1</td>\n",
       "    </tr>\n",
       "    <tr>\n",
       "      <th>1</th>\n",
       "      <td>hqdqwlrphulgh</td>\n",
       "      <td>0</td>\n",
       "      <td>0</td>\n",
       "      <td>0</td>\n",
       "      <td>1</td>\n",
       "      <td>0</td>\n",
       "      <td>0</td>\n",
       "      <td>1</td>\n",
       "      <td>3</td>\n",
       "      <td>0</td>\n",
       "      <td>...</td>\n",
       "      <td>1</td>\n",
       "      <td>0</td>\n",
       "      <td>0</td>\n",
       "      <td>1</td>\n",
       "      <td>0</td>\n",
       "      <td>1</td>\n",
       "      <td>0</td>\n",
       "      <td>0</td>\n",
       "      <td>0</td>\n",
       "      <td>1</td>\n",
       "    </tr>\n",
       "    <tr>\n",
       "      <th>2</th>\n",
       "      <td>dftxlwdo</td>\n",
       "      <td>0</td>\n",
       "      <td>0</td>\n",
       "      <td>0</td>\n",
       "      <td>2</td>\n",
       "      <td>0</td>\n",
       "      <td>1</td>\n",
       "      <td>0</td>\n",
       "      <td>0</td>\n",
       "      <td>0</td>\n",
       "      <td>...</td>\n",
       "      <td>0</td>\n",
       "      <td>0</td>\n",
       "      <td>1</td>\n",
       "      <td>0</td>\n",
       "      <td>0</td>\n",
       "      <td>1</td>\n",
       "      <td>1</td>\n",
       "      <td>0</td>\n",
       "      <td>0</td>\n",
       "      <td>1</td>\n",
       "    </tr>\n",
       "    <tr>\n",
       "      <th>3</th>\n",
       "      <td>xowudvrxqg</td>\n",
       "      <td>0</td>\n",
       "      <td>0</td>\n",
       "      <td>0</td>\n",
       "      <td>1</td>\n",
       "      <td>0</td>\n",
       "      <td>0</td>\n",
       "      <td>1</td>\n",
       "      <td>0</td>\n",
       "      <td>0</td>\n",
       "      <td>...</td>\n",
       "      <td>1</td>\n",
       "      <td>0</td>\n",
       "      <td>0</td>\n",
       "      <td>1</td>\n",
       "      <td>1</td>\n",
       "      <td>1</td>\n",
       "      <td>2</td>\n",
       "      <td>0</td>\n",
       "      <td>0</td>\n",
       "      <td>1</td>\n",
       "    </tr>\n",
       "    <tr>\n",
       "      <th>4</th>\n",
       "      <td>vfrswrsklolf</td>\n",
       "      <td>0</td>\n",
       "      <td>0</td>\n",
       "      <td>0</td>\n",
       "      <td>0</td>\n",
       "      <td>0</td>\n",
       "      <td>2</td>\n",
       "      <td>0</td>\n",
       "      <td>0</td>\n",
       "      <td>0</td>\n",
       "      <td>...</td>\n",
       "      <td>2</td>\n",
       "      <td>2</td>\n",
       "      <td>0</td>\n",
       "      <td>0</td>\n",
       "      <td>1</td>\n",
       "      <td>1</td>\n",
       "      <td>0</td>\n",
       "      <td>0</td>\n",
       "      <td>0</td>\n",
       "      <td>1</td>\n",
       "    </tr>\n",
       "  </tbody>\n",
       "</table>\n",
       "<p>5 rows × 28 columns</p>\n",
       "</div>"
      ],
      "text/plain": [
       "            Word  a  b  c  d  e  f  g  h  i  ...  r  s  t  u  v  w  x  y  z  \\\n",
       "0        wrxfkhw  0  0  0  0  0  1  0  1  0  ...  1  0  0  0  0  2  1  0  0   \n",
       "1  hqdqwlrphulgh  0  0  0  1  0  0  1  3  0  ...  1  0  0  1  0  1  0  0  0   \n",
       "2       dftxlwdo  0  0  0  2  0  1  0  0  0  ...  0  0  1  0  0  1  1  0  0   \n",
       "3     xowudvrxqg  0  0  0  1  0  0  1  0  0  ...  1  0  0  1  1  1  2  0  0   \n",
       "4   vfrswrsklolf  0  0  0  0  0  2  0  0  0  ...  2  2  0  0  1  1  0  0  0   \n",
       "\n",
       "   Class  \n",
       "0      1  \n",
       "1      1  \n",
       "2      1  \n",
       "3      1  \n",
       "4      1  \n",
       "\n",
       "[5 rows x 28 columns]"
      ]
     },
     "execution_count": 25,
     "metadata": {},
     "output_type": "execute_result"
    }
   ],
   "source": [
    "data_frame.head()"
   ]
  },
  {
   "cell_type": "markdown",
   "metadata": {},
   "source": [
    "### Building a model"
   ]
  },
  {
   "cell_type": "markdown",
   "metadata": {},
   "source": [
    "#### Data preparation"
   ]
  },
  {
   "cell_type": "code",
   "execution_count": 26,
   "metadata": {},
   "outputs": [
    {
     "data": {
      "text/html": [
       "<div>\n",
       "<style scoped>\n",
       "    .dataframe tbody tr th:only-of-type {\n",
       "        vertical-align: middle;\n",
       "    }\n",
       "\n",
       "    .dataframe tbody tr th {\n",
       "        vertical-align: top;\n",
       "    }\n",
       "\n",
       "    .dataframe thead th {\n",
       "        text-align: right;\n",
       "    }\n",
       "</style>\n",
       "<table border=\"1\" class=\"dataframe\">\n",
       "  <thead>\n",
       "    <tr style=\"text-align: right;\">\n",
       "      <th></th>\n",
       "      <th>a</th>\n",
       "      <th>b</th>\n",
       "      <th>c</th>\n",
       "      <th>d</th>\n",
       "      <th>e</th>\n",
       "      <th>f</th>\n",
       "      <th>g</th>\n",
       "      <th>h</th>\n",
       "      <th>i</th>\n",
       "      <th>j</th>\n",
       "      <th>...</th>\n",
       "      <th>r</th>\n",
       "      <th>s</th>\n",
       "      <th>t</th>\n",
       "      <th>u</th>\n",
       "      <th>v</th>\n",
       "      <th>w</th>\n",
       "      <th>x</th>\n",
       "      <th>y</th>\n",
       "      <th>z</th>\n",
       "      <th>Class</th>\n",
       "    </tr>\n",
       "  </thead>\n",
       "  <tbody>\n",
       "    <tr>\n",
       "      <th>0</th>\n",
       "      <td>0</td>\n",
       "      <td>0</td>\n",
       "      <td>0</td>\n",
       "      <td>0</td>\n",
       "      <td>0</td>\n",
       "      <td>1</td>\n",
       "      <td>0</td>\n",
       "      <td>1</td>\n",
       "      <td>0</td>\n",
       "      <td>0</td>\n",
       "      <td>...</td>\n",
       "      <td>1</td>\n",
       "      <td>0</td>\n",
       "      <td>0</td>\n",
       "      <td>0</td>\n",
       "      <td>0</td>\n",
       "      <td>2</td>\n",
       "      <td>1</td>\n",
       "      <td>0</td>\n",
       "      <td>0</td>\n",
       "      <td>1</td>\n",
       "    </tr>\n",
       "    <tr>\n",
       "      <th>1</th>\n",
       "      <td>0</td>\n",
       "      <td>0</td>\n",
       "      <td>0</td>\n",
       "      <td>1</td>\n",
       "      <td>0</td>\n",
       "      <td>0</td>\n",
       "      <td>1</td>\n",
       "      <td>3</td>\n",
       "      <td>0</td>\n",
       "      <td>0</td>\n",
       "      <td>...</td>\n",
       "      <td>1</td>\n",
       "      <td>0</td>\n",
       "      <td>0</td>\n",
       "      <td>1</td>\n",
       "      <td>0</td>\n",
       "      <td>1</td>\n",
       "      <td>0</td>\n",
       "      <td>0</td>\n",
       "      <td>0</td>\n",
       "      <td>1</td>\n",
       "    </tr>\n",
       "    <tr>\n",
       "      <th>2</th>\n",
       "      <td>0</td>\n",
       "      <td>0</td>\n",
       "      <td>0</td>\n",
       "      <td>2</td>\n",
       "      <td>0</td>\n",
       "      <td>1</td>\n",
       "      <td>0</td>\n",
       "      <td>0</td>\n",
       "      <td>0</td>\n",
       "      <td>0</td>\n",
       "      <td>...</td>\n",
       "      <td>0</td>\n",
       "      <td>0</td>\n",
       "      <td>1</td>\n",
       "      <td>0</td>\n",
       "      <td>0</td>\n",
       "      <td>1</td>\n",
       "      <td>1</td>\n",
       "      <td>0</td>\n",
       "      <td>0</td>\n",
       "      <td>1</td>\n",
       "    </tr>\n",
       "    <tr>\n",
       "      <th>3</th>\n",
       "      <td>0</td>\n",
       "      <td>0</td>\n",
       "      <td>0</td>\n",
       "      <td>1</td>\n",
       "      <td>0</td>\n",
       "      <td>0</td>\n",
       "      <td>1</td>\n",
       "      <td>0</td>\n",
       "      <td>0</td>\n",
       "      <td>0</td>\n",
       "      <td>...</td>\n",
       "      <td>1</td>\n",
       "      <td>0</td>\n",
       "      <td>0</td>\n",
       "      <td>1</td>\n",
       "      <td>1</td>\n",
       "      <td>1</td>\n",
       "      <td>2</td>\n",
       "      <td>0</td>\n",
       "      <td>0</td>\n",
       "      <td>1</td>\n",
       "    </tr>\n",
       "    <tr>\n",
       "      <th>4</th>\n",
       "      <td>0</td>\n",
       "      <td>0</td>\n",
       "      <td>0</td>\n",
       "      <td>0</td>\n",
       "      <td>0</td>\n",
       "      <td>2</td>\n",
       "      <td>0</td>\n",
       "      <td>0</td>\n",
       "      <td>0</td>\n",
       "      <td>0</td>\n",
       "      <td>...</td>\n",
       "      <td>2</td>\n",
       "      <td>2</td>\n",
       "      <td>0</td>\n",
       "      <td>0</td>\n",
       "      <td>1</td>\n",
       "      <td>1</td>\n",
       "      <td>0</td>\n",
       "      <td>0</td>\n",
       "      <td>0</td>\n",
       "      <td>1</td>\n",
       "    </tr>\n",
       "  </tbody>\n",
       "</table>\n",
       "<p>5 rows × 27 columns</p>\n",
       "</div>"
      ],
      "text/plain": [
       "   a  b  c  d  e  f  g  h  i  j  ...  r  s  t  u  v  w  x  y  z  Class\n",
       "0  0  0  0  0  0  1  0  1  0  0  ...  1  0  0  0  0  2  1  0  0      1\n",
       "1  0  0  0  1  0  0  1  3  0  0  ...  1  0  0  1  0  1  0  0  0      1\n",
       "2  0  0  0  2  0  1  0  0  0  0  ...  0  0  1  0  0  1  1  0  0      1\n",
       "3  0  0  0  1  0  0  1  0  0  0  ...  1  0  0  1  1  1  2  0  0      1\n",
       "4  0  0  0  0  0  2  0  0  0  0  ...  2  2  0  0  1  1  0  0  0      1\n",
       "\n",
       "[5 rows x 27 columns]"
      ]
     },
     "execution_count": 26,
     "metadata": {},
     "output_type": "execute_result"
    }
   ],
   "source": [
    "# It is a table we will work with\n",
    "\n",
    "df = data_frame.drop('Word', axis=1)\n",
    "df.head()"
   ]
  },
  {
   "cell_type": "code",
   "execution_count": 27,
   "metadata": {},
   "outputs": [],
   "source": [
    "X = df.drop('Class', axis=1)\n",
    "y = df['Class']"
   ]
  },
  {
   "cell_type": "code",
   "execution_count": 28,
   "metadata": {},
   "outputs": [],
   "source": [
    "assert(len(X) == len(y))"
   ]
  },
  {
   "cell_type": "markdown",
   "metadata": {},
   "source": [
    "#### Building a model\n",
    "\n",
    "Building is extremely long process (may take about 20 minutes), but if we have learned a model already, we can load it easily from binary file! If file is abcent, we create new model and save it."
   ]
  },
  {
   "cell_type": "code",
   "execution_count": 29,
   "metadata": {},
   "outputs": [
    {
     "name": "stdout",
     "output_type": "stream",
     "text": [
      "Read from ./data/Predictor.pickle\n",
      "Time elapsed: 0:00:00.117866\n"
     ]
    }
   ],
   "source": [
    "classifier = make_classifier(X, y, predictor_path)"
   ]
  },
  {
   "cell_type": "markdown",
   "metadata": {},
   "source": [
    "#### Testing"
   ]
  },
  {
   "cell_type": "code",
   "execution_count": 30,
   "metadata": {
    "scrolled": false
   },
   "outputs": [
    {
     "name": "stdout",
     "output_type": "stream",
     "text": [
      "Time elapsed: 0:00:00.109216\n",
      "Time elapsed: 0:00:00.113594\n",
      "Time elapsed: 0:00:00.131358\n",
      "Time elapsed: 0:00:00.123190\n",
      "Time elapsed: 0:00:00.129852\n",
      "Time elapsed: 0:00:00.115181\n"
     ]
    }
   ],
   "source": [
    "n = 25\n",
    "\n",
    "tests = [get_n_random(n, cipher_dict) for cipher_dict in ciphers]"
   ]
  },
  {
   "cell_type": "code",
   "execution_count": 31,
   "metadata": {},
   "outputs": [
    {
     "name": "stdout",
     "output_type": "stream",
     "text": [
      "Should be 1: [1 1 1 1 1 6 1 1 1 1 1 1 1 1 1 1 1 1 1 1 1 1 1 1 1]. Errors: 1. Percentage: 96.0\n",
      "Should be 2: [2 2 2 2 2 2 2 2 2 2 2 2 2 2 2 2 2 2 2 5 2 6 2 2 2]. Errors: 2. Percentage: 92.0\n",
      "Should be 3: [3 3 3 3 3 3 3 3 3 3 3 3 3 3 3 3 3 3 2 3 5 3 3 6 3]. Errors: 3. Percentage: 88.0\n",
      "Should be 4: [4 4 4 4 4 4 4 5 4 4 4 4 4 4 4 4 4 4 4 4 4 4 4 4 4]. Errors: 1. Percentage: 96.0\n",
      "Should be 5: [5 5 5 1 5 5 5 5 5 5 5 3 5 5 3 5 5 5 5 5 5 5 4 1 5]. Errors: 5. Percentage: 80.0\n",
      "Should be 6: [1 6 2 6 3 2 6 6 6 6 6 6 6 3 1 6 6 6 6 2 6 6 3 6 6]. Errors: 8. Percentage: 68.0\n"
     ]
    }
   ],
   "source": [
    "for index, test in enumerate(tests):\n",
    "    predictions = classifier.predict(list(test.values()))\n",
    "    right_value = index + 1\n",
    "    print(\n",
    "        \"Should be {}: {}. {}\".format(right_value, predictions\n",
    "                                      , stats(right_value, list(predictions)))\n",
    "    )"
   ]
  },
  {
   "cell_type": "markdown",
   "metadata": {},
   "source": [
    "## Brief conclusion\n",
    "\n",
    "We can see: it is possible to classify encrypted words by their encryption method. I will continue my research: nowadays I look at classifiers based on neural networks. Reason for continuation is following: current model is not enough accurate: in general it classifies right about 20% of encrypted words, but it is my first attempt to achieve my target - to build classifier, which will have at least 50% answer hit. Maybe it is impossible for some mathematical reasuns; if it is, I'd prove it mathematically and practically.\n",
    "\n",
    "But for today you can look, how currently built model decrypts some words below:"
   ]
  },
  {
   "cell_type": "code",
   "execution_count": 32,
   "metadata": {},
   "outputs": [
    {
     "name": "stdout",
     "output_type": "stream",
     "text": [
      "Time elapsed: 0:00:00.230462\n",
      "Time elapsed: 0:00:00.223842\n",
      "Time elapsed: 0:00:00.209738\n",
      "Time elapsed: 0:00:00.198658\n",
      "Time elapsed: 0:00:00.222723\n",
      "Time elapsed: 0:00:00.202246\n",
      "Time elapsed: 0:00:00.000108\n"
     ]
    }
   ],
   "source": [
    "# Choose 10 random words\n",
    "demo = dict()\n",
    "for cipher_dict in ciphers:\n",
    "    demo = dict(demo, **get_n_random(5, cipher_dict))\n",
    "    \n",
    "demo = swap_keys_and_values(get_n_random(10, demo))"
   ]
  },
  {
   "cell_type": "code",
   "execution_count": 33,
   "metadata": {},
   "outputs": [
    {
     "name": "stdout",
     "output_type": "stream",
     "text": [
      "'jyhsvighhxvm' decrypted to 'fudorecddtri'.\n",
      "Original: 'unoverlooked'\n",
      "\n",
      "'qmwglevkiw' decrypted to 'mischarges'.\n",
      "Original: 'mischarges'\n",
      "\n",
      "'ajhytwnsl' decrypted to 'vectoring'.\n",
      "Original: 'vectoring'\n",
      "\n",
      "'fdqrwdv' decrypted to 'canotas'.\n",
      "Original: 'canotas'\n",
      "\n",
      "'wmcnqhuui'g' decrypted to 'guidebook's'.\n",
      "Original: 'guidebook's'\n",
      "\n",
      "'ijhbwnyjw' decrypted to 'decwriter'.\n",
      "Original: 'decwriter'\n",
      "\n",
      "'fony' decrypted to 'ajit'.\n",
      "Original: 'ajit'\n",
      "\n",
      "'mcotujc' decrypted to 'castora'.\n",
      "Original: 'castora'\n",
      "\n",
      "'rtynlpfvr' decrypted to 'syngamies'.\n",
      "Original: 'syngamies'\n",
      "\n",
      "'kyemve' decrypted to 'guaira'.\n",
      "Original: 'guaira'\n",
      "\n"
     ]
    }
   ],
   "source": [
    "show_demo(demo, classifier)"
   ]
  }
 ],
 "metadata": {
  "kernelspec": {
   "display_name": "Python 3",
   "language": "python",
   "name": "python3"
  },
  "language_info": {
   "codemirror_mode": {
    "name": "ipython",
    "version": 3
   },
   "file_extension": ".py",
   "mimetype": "text/x-python",
   "name": "python",
   "nbconvert_exporter": "python",
   "pygments_lexer": "ipython3",
   "version": "3.7.3"
  }
 },
 "nbformat": 4,
 "nbformat_minor": 2
}
